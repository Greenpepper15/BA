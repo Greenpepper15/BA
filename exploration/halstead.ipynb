{
 "cells": [
  {
   "cell_type": "code",
   "execution_count": 1,
   "metadata": {
    "collapsed": true
   },
   "outputs": [],
   "source": [
    "import json\n",
    "import os\n",
    "import seaborn as sb\n",
    "import pandas as pd"
   ]
  },
  {
   "cell_type": "code",
   "execution_count": 2,
   "outputs": [
    {
     "data": {
      "text/plain": "     year commit_sha              file_name      h_volume  h_length  h_voc  \\\n0    2012    3b62de3  activity_estimation.c  31025.556223      4197    168   \n1    2012    3b62de3    ast_optimizations.c   7311.103044      1129     89   \n2    2012    3b62de3             ast_util.c  37973.897716      5102    174   \n3    2012    3b62de3               errors.c   1236.784119       234     39   \n4    2012    3b62de3          hard_blocks.c   9167.987844      1386     98   \n..    ...        ...                    ...           ...       ...    ...   \n386  2022    a6538ac       subtractions.cpp  39914.709148      5165    212   \n387  2022    a6538ac            Verilog.cpp     -1.000000         0      0   \n388  2022    a6538ac      VerilogReader.cpp    256.763925        54     27   \n389  2022    a6538ac      VerilogWriter.cpp   3803.282445       570    102   \n390  2022    a6538ac             YYosys.cpp   6751.069407       966    127   \n\n     distinct_operators  distinct_operands  \n0                    60                108  \n1                    51                 38  \n2                    80                 94  \n3                    25                 14  \n4                    44                 54  \n..                  ...                ...  \n386                  77                135  \n387                   0                  0  \n388                  20                  7  \n389                  45                 57  \n390                  66                 61  \n\n[391 rows x 8 columns]",
      "text/html": "<div>\n<style scoped>\n    .dataframe tbody tr th:only-of-type {\n        vertical-align: middle;\n    }\n\n    .dataframe tbody tr th {\n        vertical-align: top;\n    }\n\n    .dataframe thead th {\n        text-align: right;\n    }\n</style>\n<table border=\"1\" class=\"dataframe\">\n  <thead>\n    <tr style=\"text-align: right;\">\n      <th></th>\n      <th>year</th>\n      <th>commit_sha</th>\n      <th>file_name</th>\n      <th>h_volume</th>\n      <th>h_length</th>\n      <th>h_voc</th>\n      <th>distinct_operators</th>\n      <th>distinct_operands</th>\n    </tr>\n  </thead>\n  <tbody>\n    <tr>\n      <th>0</th>\n      <td>2012</td>\n      <td>3b62de3</td>\n      <td>activity_estimation.c</td>\n      <td>31025.556223</td>\n      <td>4197</td>\n      <td>168</td>\n      <td>60</td>\n      <td>108</td>\n    </tr>\n    <tr>\n      <th>1</th>\n      <td>2012</td>\n      <td>3b62de3</td>\n      <td>ast_optimizations.c</td>\n      <td>7311.103044</td>\n      <td>1129</td>\n      <td>89</td>\n      <td>51</td>\n      <td>38</td>\n    </tr>\n    <tr>\n      <th>2</th>\n      <td>2012</td>\n      <td>3b62de3</td>\n      <td>ast_util.c</td>\n      <td>37973.897716</td>\n      <td>5102</td>\n      <td>174</td>\n      <td>80</td>\n      <td>94</td>\n    </tr>\n    <tr>\n      <th>3</th>\n      <td>2012</td>\n      <td>3b62de3</td>\n      <td>errors.c</td>\n      <td>1236.784119</td>\n      <td>234</td>\n      <td>39</td>\n      <td>25</td>\n      <td>14</td>\n    </tr>\n    <tr>\n      <th>4</th>\n      <td>2012</td>\n      <td>3b62de3</td>\n      <td>hard_blocks.c</td>\n      <td>9167.987844</td>\n      <td>1386</td>\n      <td>98</td>\n      <td>44</td>\n      <td>54</td>\n    </tr>\n    <tr>\n      <th>...</th>\n      <td>...</td>\n      <td>...</td>\n      <td>...</td>\n      <td>...</td>\n      <td>...</td>\n      <td>...</td>\n      <td>...</td>\n      <td>...</td>\n    </tr>\n    <tr>\n      <th>386</th>\n      <td>2022</td>\n      <td>a6538ac</td>\n      <td>subtractions.cpp</td>\n      <td>39914.709148</td>\n      <td>5165</td>\n      <td>212</td>\n      <td>77</td>\n      <td>135</td>\n    </tr>\n    <tr>\n      <th>387</th>\n      <td>2022</td>\n      <td>a6538ac</td>\n      <td>Verilog.cpp</td>\n      <td>-1.000000</td>\n      <td>0</td>\n      <td>0</td>\n      <td>0</td>\n      <td>0</td>\n    </tr>\n    <tr>\n      <th>388</th>\n      <td>2022</td>\n      <td>a6538ac</td>\n      <td>VerilogReader.cpp</td>\n      <td>256.763925</td>\n      <td>54</td>\n      <td>27</td>\n      <td>20</td>\n      <td>7</td>\n    </tr>\n    <tr>\n      <th>389</th>\n      <td>2022</td>\n      <td>a6538ac</td>\n      <td>VerilogWriter.cpp</td>\n      <td>3803.282445</td>\n      <td>570</td>\n      <td>102</td>\n      <td>45</td>\n      <td>57</td>\n    </tr>\n    <tr>\n      <th>390</th>\n      <td>2022</td>\n      <td>a6538ac</td>\n      <td>YYosys.cpp</td>\n      <td>6751.069407</td>\n      <td>966</td>\n      <td>127</td>\n      <td>66</td>\n      <td>61</td>\n    </tr>\n  </tbody>\n</table>\n<p>391 rows × 8 columns</p>\n</div>"
     },
     "execution_count": 2,
     "metadata": {},
     "output_type": "execute_result"
    }
   ],
   "source": [
    "hal_data = {\"year\": [], \"commit_sha\": [],\n",
    "        \"file_name\": [],\n",
    "        \"h_volume\": [],\n",
    "        \"h_length\": [],\n",
    "        \"h_voc\": [],\n",
    "        \"distinct_operators\": [],\n",
    "        \"distinct_operands\": []\n",
    "        }\n",
    "\n",
    "for file in os.scandir(\"data/halstead/\"):\n",
    "    if file.is_file and file.name.endswith(\".json\"):\n",
    "        data_file = open(file)\n",
    "        data_file = json.load(data_file)\n",
    "        for source_file in data_file:\n",
    "\n",
    "            hal_data[\"year\"].append(int(file.name[:4]))\n",
    "            hal_data[\"commit_sha\"].append(file.name[9:16])\n",
    "            hal_data[\"file_name\"].append(source_file)\n",
    "            hal_data[\"h_volume\"].append(data_file[source_file][\"h_volume\"])\n",
    "\n",
    "            hal_data[\"h_length\"].append(data_file[source_file][\"h_length\"])\n",
    "            hal_data[\"h_voc\"].append(data_file[source_file][\"h_voc\"])\n",
    "            hal_data[\"distinct_operators\"].append(data_file[source_file][\"distinct_operators\"])\n",
    "            hal_data[\"distinct_operands\"].append(data_file[source_file][\"distinct_operands\"])\n",
    "\n",
    "hal_data = pd.DataFrame(hal_data)\n",
    "hal_data"
   ],
   "metadata": {
    "collapsed": false,
    "pycharm": {
     "name": "#%%\n"
    }
   }
  },
  {
   "cell_type": "code",
   "execution_count": 3,
   "outputs": [
    {
     "data": {
      "text/plain": "Empty DataFrame\nColumns: [year, commit_sha, file_name, h_volume, h_length, h_voc, distinct_operators, distinct_operands]\nIndex: []",
      "text/html": "<div>\n<style scoped>\n    .dataframe tbody tr th:only-of-type {\n        vertical-align: middle;\n    }\n\n    .dataframe tbody tr th {\n        vertical-align: top;\n    }\n\n    .dataframe thead th {\n        text-align: right;\n    }\n</style>\n<table border=\"1\" class=\"dataframe\">\n  <thead>\n    <tr style=\"text-align: right;\">\n      <th></th>\n      <th>year</th>\n      <th>commit_sha</th>\n      <th>file_name</th>\n      <th>h_volume</th>\n      <th>h_length</th>\n      <th>h_voc</th>\n      <th>distinct_operators</th>\n      <th>distinct_operands</th>\n    </tr>\n  </thead>\n  <tbody>\n  </tbody>\n</table>\n</div>"
     },
     "execution_count": 3,
     "metadata": {},
     "output_type": "execute_result"
    }
   ],
   "source": [
    "hal_data[hal_data[\"year\"] == \"2017\"]"
   ],
   "metadata": {
    "collapsed": false,
    "pycharm": {
     "name": "#%%\n"
    }
   }
  },
  {
   "cell_type": "code",
   "execution_count": 4,
   "outputs": [
    {
     "data": {
      "text/plain": "<AxesSubplot:xlabel='year', ylabel='h_volume'>"
     },
     "execution_count": 4,
     "metadata": {},
     "output_type": "execute_result"
    },
    {
     "data": {
      "text/plain": "<Figure size 432x288 with 1 Axes>",
      "image/png": "[encoded data removed]"
     },
     "metadata": {
      "needs_background": "light"
     },
     "output_type": "display_data"
    }
   ],
   "source": [
    "sb.barplot(data=hal_data, x=\"year\", y=\"h_volume\")"
   ],
   "metadata": {
    "collapsed": false,
    "pycharm": {
     "name": "#%%\n"
    }
   }
  },
  {
   "cell_type": "code",
   "execution_count": 5,
   "outputs": [
    {
     "data": {
      "text/plain": "<AxesSubplot:xlabel='year', ylabel='distinct_operators'>"
     },
     "execution_count": 5,
     "metadata": {},
     "output_type": "execute_result"
    },
    {
     "data": {
      "text/plain": "<Figure size 432x288 with 1 Axes>",
      "image/png": "[encoded data removed]"
     },
     "metadata": {
      "needs_background": "light"
     },
     "output_type": "display_data"
    }
   ],
   "source": [
    "sb.barplot(data=hal_data, x=\"year\", y=\"distinct_operators\")"
   ],
   "metadata": {
    "collapsed": false,
    "pycharm": {
     "name": "#%%\n"
    }
   }
  },
  {
   "cell_type": "code",
   "execution_count": 6,
   "outputs": [
    {
     "data": {
      "text/plain": "<AxesSubplot:xlabel='year', ylabel='distinct_operands'>"
     },
     "execution_count": 6,
     "metadata": {},
     "output_type": "execute_result"
    },
    {
     "data": {
      "text/plain": "<Figure size 432x288 with 1 Axes>",
      "image/png": "[encoded data removed]"
     },
     "metadata": {
      "needs_background": "light"
     },
     "output_type": "display_data"
    }
   ],
   "source": [
    "sb.barplot(data=hal_data, x=\"year\", y=\"distinct_operands\")"
   ],
   "metadata": {
    "collapsed": false,
    "pycharm": {
     "name": "#%%\n"
    }
   }
  },
  {
   "cell_type": "code",
   "execution_count": 7,
   "outputs": [
    {
     "data": {
      "text/plain": "<AxesSubplot:xlabel='year', ylabel='h_length'>"
     },
     "execution_count": 7,
     "metadata": {},
     "output_type": "execute_result"
    },
    {
     "data": {
      "text/plain": "<Figure size 432x288 with 1 Axes>",
      "image/png": "[encoded data removed]"
     },
     "metadata": {
      "needs_background": "light"
     },
     "output_type": "display_data"
    }
   ],
   "source": [
    "sb.histplot(data=hal_data, x=\"year\", y=\"h_length\")"
   ],
   "metadata": {
    "collapsed": false,
    "pycharm": {
     "name": "#%%\n"
    }
   }
  },
  {
   "cell_type": "code",
   "execution_count": 8,
   "outputs": [
    {
     "data": {
      "text/plain": "[26707.969459712953,\n 27466.35231370475,\n 29060.807688286724,\n 31672.221139779278,\n 31579.44772493396,\n 32716.126554920276,\n 40105.25925322823,\n 40702.89490866846,\n 40436.954096403984,\n 38501.08374466712,\n 30805.544247596452]"
     },
     "execution_count": 8,
     "metadata": {},
     "output_type": "execute_result"
    }
   ],
   "source": [
    "list(hal_data.groupby(\"year\").mean()[\"h_volume\"])"
   ],
   "metadata": {
    "collapsed": false,
    "pycharm": {
     "name": "#%%\n"
    }
   }
  },
  {
   "cell_type": "code",
   "execution_count": 9,
   "outputs": [
    {
     "name": "stdout",
     "output_type": "stream",
     "text": [
      "[ 0  1  2  3  4  5  6  7  8  9 10]\n"
     ]
    },
    {
     "data": {
      "text/plain": "<Figure size 720x360 with 1 Axes>",
      "image/png": "[encoded data removed]"
     },
     "metadata": {
      "needs_background": "light"
     },
     "output_type": "display_data"
    }
   ],
   "source": [
    "from matplotlib import pyplot as plt, rcParams\n",
    "import numpy as np\n",
    "fig, axes = plt.subplots(1, 1, figsize=(10, 5))\n",
    "ind = np.arange(len(hal_data.groupby(\"year\")))\n",
    "width = .75\n",
    "print(ind)\n",
    "years = [2012, 2013, 2014,2015, 2016,2017,2018,2019,2020,2021, 2022]\n",
    "axes.bar(ind, list(hal_data.groupby(\"year\").mean()[\"h_volume\"]), width, label=\"SLOC\")\n",
    "axes.set_xticks(ticks=np.array(range(len(years))))\n",
    "axes.set_xticklabels(years)\n",
    "axes.grid(visible=True, axis=\"y\")"
   ],
   "metadata": {
    "collapsed": false,
    "pycharm": {
     "name": "#%%\n"
    }
   }
  },
  {
   "cell_type": "code",
   "execution_count": 10,
   "outputs": [
    {
     "name": "stdout",
     "output_type": "stream",
     "text": [
      "[ 0  1  2  3  4  5  6  7  8  9 10]\n"
     ]
    },
    {
     "data": {
      "text/plain": "<Figure size 720x360 with 1 Axes>",
      "image/png": "[encoded data removed]"
     },
     "metadata": {
      "needs_background": "light"
     },
     "output_type": "display_data"
    }
   ],
   "source": [
    "fig, axes = plt.subplots(1, 1, figsize=(10, 5))\n",
    "ind = np.arange(len(hal_data.groupby(\"year\")))\n",
    "width = .75\n",
    "print(ind)\n",
    "years = [2012, 2013, 2014,2015, 2016,2017,2018,2019,2020,2021, 2022]\n",
    "axes.bar(ind, list(hal_data.groupby(\"year\").mean()[\"h_length\"]), width, label=\"SLOC\")\n",
    "axes.set_xticks(ticks=np.array(range(len(years))))\n",
    "axes.set_xticklabels(years)\n",
    "axes.set_ylabel(\"Halstead Length\")\n",
    "axes.set_xlabel(\"Years\")\n",
    "axes.set_title(\"Halstead Length per file\")\n",
    "axes.grid(visible=True, axis=\"y\")\n",
    "fig.savefig(\"figures/halstead/h_length_per_file\")"
   ],
   "metadata": {
    "collapsed": false,
    "pycharm": {
     "name": "#%%\n"
    }
   }
  },
  {
   "cell_type": "code",
   "execution_count": 23,
   "outputs": [],
   "source": [
    "years = [2012, 2013, 2014,2015, 2016,2017,2018,2019,2020,2021, 2022]\n",
    "cum_h_length = []\n",
    "for i in years:\n",
    "    length_year = 0\n",
    "    for value in hal_data[hal_data[\"year\"] == i][\"h_length\"]:\n",
    "        length_year += value\n",
    "    cum_h_length.append(length_year)\n",
    "cum_h_length\n",
    "\n",
    "def cumulate_column(year: list, column: str) -> list:\n",
    "    res = []\n",
    "    for i in year:\n",
    "        tmp = 0\n",
    "        for value in hal_data[hal_data[\"year\"] == i][column]:\n",
    "            tmp += value\n",
    "        res.append(tmp)\n",
    "    return res\n",
    "cum_distict_operants = cumulate_column(years, \"distinct_operators\")\n",
    "cum_distict_operands = cumulate_column(years, \"distinct_operands\")\n",
    "cum_voc = cumulate_column(years, \"h_voc\")"
   ],
   "metadata": {
    "collapsed": false,
    "pycharm": {
     "name": "#%%\n"
    }
   }
  },
  {
   "cell_type": "code",
   "execution_count": 12,
   "outputs": [
    {
     "name": "stdout",
     "output_type": "stream",
     "text": [
      "0\n",
      "1\n",
      "2\n",
      "3\n",
      "4\n",
      "5\n",
      "6\n",
      "7\n",
      "8\n",
      "9\n"
     ]
    },
    {
     "data": {
      "text/plain": "[0.12399618387780999,\n 0.11443757725587145,\n 0.07861014367369877,\n 0.02367208709243974,\n 0.004667796224241735,\n -0.052113746350437945,\n 0.031884669479606186,\n 0.025801790995951857,\n 0.010729471166622376,\n 0.2670457159759424]"
     },
     "execution_count": 12,
     "metadata": {},
     "output_type": "execute_result"
    }
   ],
   "source": [
    "h_length_increase = []\n",
    "for i in range(len(cum_h_length) - 1):\n",
    "    print(i)\n",
    "    h_length_increase.append((cum_h_length[i + 1]-cum_h_length[i])/cum_h_length[i])\n",
    "h_length_increase"
   ],
   "metadata": {
    "collapsed": false,
    "pycharm": {
     "name": "#%%\n"
    }
   }
  },
  {
   "cell_type": "code",
   "execution_count": 13,
   "outputs": [
    {
     "data": {
      "text/plain": "<Figure size 720x360 with 1 Axes>",
      "image/png": "[encoded data removed]"
     },
     "metadata": {
      "needs_background": "light"
     },
     "output_type": "display_data"
    }
   ],
   "source": [
    "fig, axes = plt.subplots(1, 1, figsize=(10, 5))\n",
    "ind = np.arange(len(hal_data.groupby(\"year\")))\n",
    "width = .75\n",
    "years = [2012, 2013, 2014,2015, 2016,2017,2018,2019,2020,2021, 2022]\n",
    "axes.bar(ind, cum_h_length, width)\n",
    "axes.grid(visible=True, axis=\"y\")\n",
    "axes.set_xticks(ticks=np.array(range(len(years))))\n",
    "axes.set_xticklabels(years)\n",
    "axes.set_xlabel(\"Years\")\n",
    "axes.set_ylabel(\"Halstead Length\")\n",
    "axes.set_title(\"Halstead Legth accumulated over all ODIN_II source files\")\n",
    "fig.savefig(\"figures/halstead/whole_h_length.jpg\")"
   ],
   "metadata": {
    "collapsed": false,
    "pycharm": {
     "name": "#%%\n"
    }
   }
  },
  {
   "cell_type": "code",
   "execution_count": 24,
   "outputs": [
    {
     "data": {
      "text/plain": "Text(0.5, 1.0, 'Halstead Legth accumulated over all ODIN_II source files')"
     },
     "execution_count": 24,
     "metadata": {},
     "output_type": "execute_result"
    },
    {
     "data": {
      "text/plain": "<Figure size 720x360 with 1 Axes>",
      "image/png": "[encoded data removed]"
     },
     "metadata": {
      "needs_background": "light"
     },
     "output_type": "display_data"
    }
   ],
   "source": [
    "fig, axes = plt.subplots(1, 1, figsize=(10, 5))\n",
    "ind = np.arange(len(hal_data.groupby(\"year\")))\n",
    "width = .75\n",
    "years = [2012, 2013, 2014,2015, 2016,2017,2018,2019,2020,2021, 2022]\n",
    "axes.bar(ind, cum_voc, width)\n",
    "axes.grid(visible=True, axis=\"y\")\n",
    "axes.set_xticks(ticks=np.array(range(len(years))))\n",
    "axes.set_xticklabels(years)\n",
    "axes.set_xlabel(\"Years\")\n",
    "axes.set_ylabel(\"Halstead Length\")\n",
    "axes.set_title(\"Halstead Legth accumulated over all ODIN_II source files\")"
   ],
   "metadata": {
    "collapsed": false,
    "pycharm": {
     "name": "#%%\n"
    }
   }
  },
  {
   "cell_type": "code",
   "execution_count": 14,
   "outputs": [
    {
     "name": "stdout",
     "output_type": "stream",
     "text": [
      "[2030, 2189, 2383, 2425, 2520, 2518, 2310, 2514, 2539, 2675, 3630]\n"
     ]
    },
    {
     "data": {
      "text/plain": "<Figure size 720x360 with 1 Axes>",
      "image/png": "[encoded data removed]"
     },
     "metadata": {
      "needs_background": "light"
     },
     "output_type": "display_data"
    }
   ],
   "source": [
    "fig, axes = plt.subplots(1, 1, figsize=(10, 5))\n",
    "ind = np.arange(len(years))\n",
    "width = .75\n",
    "years = [2012, 2013, 2014,2015, 2016,2017,2018,2019,2020,2021, 2022]\n",
    "print(cum_distict_operants)\n",
    "axes.bar(ind, cum_distict_operands, width)\n",
    "axes.grid(visible=True, axis=\"y\")\n",
    "axes.set_xticks(ticks=np.array(range(len(years))))\n",
    "axes.set_xticklabels(years)\n",
    "axes.set_xlabel(\"Years\")\n",
    "axes.set_ylabel(\"Halstead Length\")\n",
    "axes.set_title(\"Halstead Legth accumulated over all ODIN_II source files\")\n",
    "fig.savefig(\"figures/halstead/whole_h_length.jpg\")"
   ],
   "metadata": {
    "collapsed": false,
    "pycharm": {
     "name": "#%%\n"
    }
   }
  },
  {
   "cell_type": "code",
   "execution_count": 15,
   "outputs": [
    {
     "name": "stdout",
     "output_type": "stream",
     "text": [
      "{'Name': 'C', 'Bytes': 851678, 'CodeBytes': 0, 'Lines': 25631, 'Code': 17778, 'Comment': 4609, 'Blank': 3244, 'Complexity': 4079, 'Count': 32, 'WeightedComplexity': 0, 'Files': []}\n",
      "{'Name': 'C', 'Bytes': 934718, 'CodeBytes': 0, 'Lines': 28353, 'Code': 19825, 'Comment': 5016, 'Blank': 3512, 'Complexity': 4667, 'Count': 35, 'WeightedComplexity': 0, 'Files': []}\n",
      "{'Name': 'C', 'Bytes': 1012838, 'CodeBytes': 0, 'Lines': 31195, 'Code': 22093, 'Comment': 5255, 'Blank': 3847, 'Complexity': 5422, 'Count': 37, 'WeightedComplexity': 0, 'Files': []}\n",
      "{'Name': 'C', 'Bytes': 1099575, 'CodeBytes': 0, 'Lines': 33049, 'Code': 23333, 'Comment': 5630, 'Blank': 4086, 'Complexity': 5879, 'Count': 37, 'WeightedComplexity': 0, 'Files': []}\n",
      "{'Name': 'C', 'Bytes': 1130411, 'CodeBytes': 0, 'Lines': 33954, 'Code': 23842, 'Comment': 5847, 'Blank': 4265, 'Complexity': 6004, 'Count': 38, 'WeightedComplexity': 0, 'Files': []}\n",
      "{'Name': 'C', 'Bytes': 1128557, 'CodeBytes': 0, 'Lines': 33726, 'Code': 23712, 'Comment': 5773, 'Blank': 4241, 'Complexity': 5904, 'Count': 37, 'WeightedComplexity': 0, 'Files': []}\n",
      "{'Name': 'C++', 'Bytes': 1062681, 'CodeBytes': 0, 'Lines': 31529, 'Code': 22149, 'Comment': 5340, 'Blank': 4040, 'Complexity': 5571, 'Count': 29, 'WeightedComplexity': 0, 'Files': []}\n",
      "{'Name': 'C++', 'Bytes': 1131134, 'CodeBytes': 0, 'Lines': 33607, 'Code': 23056, 'Comment': 6088, 'Blank': 4463, 'Complexity': 5911, 'Count': 30, 'WeightedComplexity': 0, 'Files': []}\n",
      "{'Name': 'C++', 'Bytes': 1336380, 'CodeBytes': 0, 'Lines': 31248, 'Code': 20497, 'Comment': 6365, 'Blank': 4386, 'Complexity': 6381, 'Count': 31, 'WeightedComplexity': 0, 'Files': []}\n",
      "{'Name': 'C++', 'Bytes': 1368545, 'CodeBytes': 0, 'Lines': 32017, 'Code': 20976, 'Comment': 6553, 'Blank': 4488, 'Complexity': 6474, 'Count': 33, 'WeightedComplexity': 0, 'Files': []}\n",
      "{'Name': 'C++', 'Bytes': 1872140, 'CodeBytes': 0, 'Lines': 43874, 'Code': 26763, 'Comment': 11289, 'Blank': 5822, 'Complexity': 7829, 'Count': 52, 'WeightedComplexity': 0, 'Files': []}\n"
     ]
    },
    {
     "data": {
      "text/plain": "    year commit_sha  total_lines  code_lines  blank_lines  comment_lines  \\\n0   2012    3b62de3        25631       17778         3244           4609   \n1   2013    f044635        28353       19825         3512           5016   \n2   2014    c34dd6b        31195       22093         3847           5255   \n3   2015    67bd7d4        33049       23333         4086           5630   \n4   2016    c23ead2        33954       23842         4265           5847   \n5   2017    7ab96cc        33726       23712         4241           5773   \n6   2018    b29110c        31529       22149         4040           5340   \n7   2019    b8b04e3        33607       23056         4463           6088   \n8   2020    bb51a8b        31248       20497         4386           6365   \n9   2021    827170f        32017       20976         4488           6553   \n10  2022    a6538ac        43874       26763         5822          11289   \n\n    complexity  \n0         4079  \n1         4667  \n2         5422  \n3         5879  \n4         6004  \n5         5904  \n6         5571  \n7         5911  \n8         6381  \n9         6474  \n10        7829  ",
      "text/html": "<div>\n<style scoped>\n    .dataframe tbody tr th:only-of-type {\n        vertical-align: middle;\n    }\n\n    .dataframe tbody tr th {\n        vertical-align: top;\n    }\n\n    .dataframe thead th {\n        text-align: right;\n    }\n</style>\n<table border=\"1\" class=\"dataframe\">\n  <thead>\n    <tr style=\"text-align: right;\">\n      <th></th>\n      <th>year</th>\n      <th>commit_sha</th>\n      <th>total_lines</th>\n      <th>code_lines</th>\n      <th>blank_lines</th>\n      <th>comment_lines</th>\n      <th>complexity</th>\n    </tr>\n  </thead>\n  <tbody>\n    <tr>\n      <th>0</th>\n      <td>2012</td>\n      <td>3b62de3</td>\n      <td>25631</td>\n      <td>17778</td>\n      <td>3244</td>\n      <td>4609</td>\n      <td>4079</td>\n    </tr>\n    <tr>\n      <th>1</th>\n      <td>2013</td>\n      <td>f044635</td>\n      <td>28353</td>\n      <td>19825</td>\n      <td>3512</td>\n      <td>5016</td>\n      <td>4667</td>\n    </tr>\n    <tr>\n      <th>2</th>\n      <td>2014</td>\n      <td>c34dd6b</td>\n      <td>31195</td>\n      <td>22093</td>\n      <td>3847</td>\n      <td>5255</td>\n      <td>5422</td>\n    </tr>\n    <tr>\n      <th>3</th>\n      <td>2015</td>\n      <td>67bd7d4</td>\n      <td>33049</td>\n      <td>23333</td>\n      <td>4086</td>\n      <td>5630</td>\n      <td>5879</td>\n    </tr>\n    <tr>\n      <th>4</th>\n      <td>2016</td>\n      <td>c23ead2</td>\n      <td>33954</td>\n      <td>23842</td>\n      <td>4265</td>\n      <td>5847</td>\n      <td>6004</td>\n    </tr>\n    <tr>\n      <th>5</th>\n      <td>2017</td>\n      <td>7ab96cc</td>\n      <td>33726</td>\n      <td>23712</td>\n      <td>4241</td>\n      <td>5773</td>\n      <td>5904</td>\n    </tr>\n    <tr>\n      <th>6</th>\n      <td>2018</td>\n      <td>b29110c</td>\n      <td>31529</td>\n      <td>22149</td>\n      <td>4040</td>\n      <td>5340</td>\n      <td>5571</td>\n    </tr>\n    <tr>\n      <th>7</th>\n      <td>2019</td>\n      <td>b8b04e3</td>\n      <td>33607</td>\n      <td>23056</td>\n      <td>4463</td>\n      <td>6088</td>\n      <td>5911</td>\n    </tr>\n    <tr>\n      <th>8</th>\n      <td>2020</td>\n      <td>bb51a8b</td>\n      <td>31248</td>\n      <td>20497</td>\n      <td>4386</td>\n      <td>6365</td>\n      <td>6381</td>\n    </tr>\n    <tr>\n      <th>9</th>\n      <td>2021</td>\n      <td>827170f</td>\n      <td>32017</td>\n      <td>20976</td>\n      <td>4488</td>\n      <td>6553</td>\n      <td>6474</td>\n    </tr>\n    <tr>\n      <th>10</th>\n      <td>2022</td>\n      <td>a6538ac</td>\n      <td>43874</td>\n      <td>26763</td>\n      <td>5822</td>\n      <td>11289</td>\n      <td>7829</td>\n    </tr>\n  </tbody>\n</table>\n</div>"
     },
     "execution_count": 15,
     "metadata": {},
     "output_type": "execute_result"
    }
   ],
   "source": [
    "scc_data = {\"year\": [], \"commit_sha\": [], \"total_lines\": [], \"code_lines\": [],\n",
    "        \"blank_lines\": [],\n",
    "        \"comment_lines\": [],\n",
    "        \"complexity\": [],\n",
    "        }\n",
    "for file in os.scandir(\"data/LOC_and_Complexity\"):\n",
    "    if file.is_file and file.name.endswith(\".json\"):\n",
    "        data_file = open(file)\n",
    "        data_file = json.load(data_file)\n",
    "        for language in data_file:\n",
    "            if language[\"Name\"] == \"C\" or language[\"Name\"] == \"C++\":\n",
    "                print(language)\n",
    "                #appends last so order is maintained\n",
    "                scc_data[\"year\"].append(file.name[:4])\n",
    "                scc_data[\"commit_sha\"].append(file.name[9:16])\n",
    "                scc_data[\"total_lines\"].append(language[\"Lines\"])\n",
    "                scc_data[\"blank_lines\"].append(language[\"Blank\"])\n",
    "                scc_data[\"comment_lines\"].append(language[\"Comment\"])\n",
    "                scc_data[\"code_lines\"].append(language[\"Code\"])\n",
    "                scc_data[\"complexity\"].append(language[\"Complexity\"])\n",
    "\n",
    "scc_data\n",
    "\n",
    "scc_data = pd.DataFrame(scc_data)\n",
    "scc_data"
   ],
   "metadata": {
    "collapsed": false,
    "pycharm": {
     "name": "#%%\n"
    }
   }
  },
  {
   "cell_type": "code",
   "execution_count": 16,
   "outputs": [
    {
     "data": {
      "text/plain": "    year commit_sha  total_lines  code_lines  blank_lines  comment_lines  \\\n0   2012    3b62de3        25631       17778         3244           4609   \n1   2013    f044635        28353       19825         3512           5016   \n2   2014    c34dd6b        31195       22093         3847           5255   \n3   2015    67bd7d4        33049       23333         4086           5630   \n4   2016    c23ead2        33954       23842         4265           5847   \n5   2017    7ab96cc        33726       23712         4241           5773   \n6   2018    b29110c        31529       22149         4040           5340   \n7   2019    b8b04e3        33607       23056         4463           6088   \n8   2020    bb51a8b        31248       20497         4386           6365   \n9   2021    827170f        32017       20976         4488           6553   \n10  2022    a6538ac        43874       26763         5822          11289   \n\n    complexity  percent_comment  \n0         4079         0.179821  \n1         4667         0.176912  \n2         5422         0.168456  \n3         5879         0.170353  \n4         6004         0.172204  \n5         5904         0.171174  \n6         5571         0.169368  \n7         5911         0.181153  \n8         6381         0.203693  \n9         6474         0.204673  \n10        7829         0.257305  ",
      "text/html": "<div>\n<style scoped>\n    .dataframe tbody tr th:only-of-type {\n        vertical-align: middle;\n    }\n\n    .dataframe tbody tr th {\n        vertical-align: top;\n    }\n\n    .dataframe thead th {\n        text-align: right;\n    }\n</style>\n<table border=\"1\" class=\"dataframe\">\n  <thead>\n    <tr style=\"text-align: right;\">\n      <th></th>\n      <th>year</th>\n      <th>commit_sha</th>\n      <th>total_lines</th>\n      <th>code_lines</th>\n      <th>blank_lines</th>\n      <th>comment_lines</th>\n      <th>complexity</th>\n      <th>percent_comment</th>\n    </tr>\n  </thead>\n  <tbody>\n    <tr>\n      <th>0</th>\n      <td>2012</td>\n      <td>3b62de3</td>\n      <td>25631</td>\n      <td>17778</td>\n      <td>3244</td>\n      <td>4609</td>\n      <td>4079</td>\n      <td>0.179821</td>\n    </tr>\n    <tr>\n      <th>1</th>\n      <td>2013</td>\n      <td>f044635</td>\n      <td>28353</td>\n      <td>19825</td>\n      <td>3512</td>\n      <td>5016</td>\n      <td>4667</td>\n      <td>0.176912</td>\n    </tr>\n    <tr>\n      <th>2</th>\n      <td>2014</td>\n      <td>c34dd6b</td>\n      <td>31195</td>\n      <td>22093</td>\n      <td>3847</td>\n      <td>5255</td>\n      <td>5422</td>\n      <td>0.168456</td>\n    </tr>\n    <tr>\n      <th>3</th>\n      <td>2015</td>\n      <td>67bd7d4</td>\n      <td>33049</td>\n      <td>23333</td>\n      <td>4086</td>\n      <td>5630</td>\n      <td>5879</td>\n      <td>0.170353</td>\n    </tr>\n    <tr>\n      <th>4</th>\n      <td>2016</td>\n      <td>c23ead2</td>\n      <td>33954</td>\n      <td>23842</td>\n      <td>4265</td>\n      <td>5847</td>\n      <td>6004</td>\n      <td>0.172204</td>\n    </tr>\n    <tr>\n      <th>5</th>\n      <td>2017</td>\n      <td>7ab96cc</td>\n      <td>33726</td>\n      <td>23712</td>\n      <td>4241</td>\n      <td>5773</td>\n      <td>5904</td>\n      <td>0.171174</td>\n    </tr>\n    <tr>\n      <th>6</th>\n      <td>2018</td>\n      <td>b29110c</td>\n      <td>31529</td>\n      <td>22149</td>\n      <td>4040</td>\n      <td>5340</td>\n      <td>5571</td>\n      <td>0.169368</td>\n    </tr>\n    <tr>\n      <th>7</th>\n      <td>2019</td>\n      <td>b8b04e3</td>\n      <td>33607</td>\n      <td>23056</td>\n      <td>4463</td>\n      <td>6088</td>\n      <td>5911</td>\n      <td>0.181153</td>\n    </tr>\n    <tr>\n      <th>8</th>\n      <td>2020</td>\n      <td>bb51a8b</td>\n      <td>31248</td>\n      <td>20497</td>\n      <td>4386</td>\n      <td>6365</td>\n      <td>6381</td>\n      <td>0.203693</td>\n    </tr>\n    <tr>\n      <th>9</th>\n      <td>2021</td>\n      <td>827170f</td>\n      <td>32017</td>\n      <td>20976</td>\n      <td>4488</td>\n      <td>6553</td>\n      <td>6474</td>\n      <td>0.204673</td>\n    </tr>\n    <tr>\n      <th>10</th>\n      <td>2022</td>\n      <td>a6538ac</td>\n      <td>43874</td>\n      <td>26763</td>\n      <td>5822</td>\n      <td>11289</td>\n      <td>7829</td>\n      <td>0.257305</td>\n    </tr>\n  </tbody>\n</table>\n</div>"
     },
     "execution_count": 16,
     "metadata": {},
     "output_type": "execute_result"
    }
   ],
   "source": [
    "scc_data[\"percent_comment\"] = scc_data[\"comment_lines\"] / scc_data[\"total_lines\"]\n",
    "\n",
    "scc_data"
   ],
   "metadata": {
    "collapsed": false,
    "pycharm": {
     "name": "#%%\n"
    }
   }
  },
  {
   "cell_type": "code",
   "execution_count": 17,
   "outputs": [
    {
     "data": {
      "text/plain": "0     0.179821\n1     0.176912\n2     0.168456\n3     0.170353\n4     0.172204\n5     0.171174\n6     0.169368\n7     0.181153\n8     0.203693\n9     0.204673\n10    0.257305\nName: percent_comment, dtype: float64"
     },
     "execution_count": 17,
     "metadata": {},
     "output_type": "execute_result"
    }
   ],
   "source": [
    "\n",
    "scc_data[\"percent_comment\"]"
   ],
   "metadata": {
    "collapsed": false,
    "pycharm": {
     "name": "#%%\n"
    }
   }
  },
  {
   "cell_type": "code",
   "execution_count": 18,
   "outputs": [
    {
     "data": {
      "text/plain": "     year  loc_per_file  complex_per_file  comment_per_file  blank_per_file  \\\n0    2012           344                51                74              31   \n1    2012            89                16                30              10   \n2    2012           113                 7                22              16   \n3    2012           876               186               143             119   \n4    2012           199                13                22              29   \n..    ...           ...               ...               ...             ...   \n386  2022           206                36                74              21   \n387  2022           488                 0                48              15   \n388  2022           716                73               343              74   \n389  2022           646                40               307              76   \n390  2022          5549              1149              1033             834   \n\n                        filename  \n0            ast_optimizations.c  \n1                       errors.c  \n2                        queue.c  \n3          activity_estimation.c  \n4                    hashtable.c  \n..                           ...  \n386               LogicalOps.cpp  \n387                 enum_str.cpp  \n388                 Division.cpp  \n389                 FlipFlop.cpp  \n390  netlist_create_from_ast.cpp  \n\n[391 rows x 6 columns]",
      "text/html": "<div>\n<style scoped>\n    .dataframe tbody tr th:only-of-type {\n        vertical-align: middle;\n    }\n\n    .dataframe tbody tr th {\n        vertical-align: top;\n    }\n\n    .dataframe thead th {\n        text-align: right;\n    }\n</style>\n<table border=\"1\" class=\"dataframe\">\n  <thead>\n    <tr style=\"text-align: right;\">\n      <th></th>\n      <th>year</th>\n      <th>loc_per_file</th>\n      <th>complex_per_file</th>\n      <th>comment_per_file</th>\n      <th>blank_per_file</th>\n      <th>filename</th>\n    </tr>\n  </thead>\n  <tbody>\n    <tr>\n      <th>0</th>\n      <td>2012</td>\n      <td>344</td>\n      <td>51</td>\n      <td>74</td>\n      <td>31</td>\n      <td>ast_optimizations.c</td>\n    </tr>\n    <tr>\n      <th>1</th>\n      <td>2012</td>\n      <td>89</td>\n      <td>16</td>\n      <td>30</td>\n      <td>10</td>\n      <td>errors.c</td>\n    </tr>\n    <tr>\n      <th>2</th>\n      <td>2012</td>\n      <td>113</td>\n      <td>7</td>\n      <td>22</td>\n      <td>16</td>\n      <td>queue.c</td>\n    </tr>\n    <tr>\n      <th>3</th>\n      <td>2012</td>\n      <td>876</td>\n      <td>186</td>\n      <td>143</td>\n      <td>119</td>\n      <td>activity_estimation.c</td>\n    </tr>\n    <tr>\n      <th>4</th>\n      <td>2012</td>\n      <td>199</td>\n      <td>13</td>\n      <td>22</td>\n      <td>29</td>\n      <td>hashtable.c</td>\n    </tr>\n    <tr>\n      <th>...</th>\n      <td>...</td>\n      <td>...</td>\n      <td>...</td>\n      <td>...</td>\n      <td>...</td>\n      <td>...</td>\n    </tr>\n    <tr>\n      <th>386</th>\n      <td>2022</td>\n      <td>206</td>\n      <td>36</td>\n      <td>74</td>\n      <td>21</td>\n      <td>LogicalOps.cpp</td>\n    </tr>\n    <tr>\n      <th>387</th>\n      <td>2022</td>\n      <td>488</td>\n      <td>0</td>\n      <td>48</td>\n      <td>15</td>\n      <td>enum_str.cpp</td>\n    </tr>\n    <tr>\n      <th>388</th>\n      <td>2022</td>\n      <td>716</td>\n      <td>73</td>\n      <td>343</td>\n      <td>74</td>\n      <td>Division.cpp</td>\n    </tr>\n    <tr>\n      <th>389</th>\n      <td>2022</td>\n      <td>646</td>\n      <td>40</td>\n      <td>307</td>\n      <td>76</td>\n      <td>FlipFlop.cpp</td>\n    </tr>\n    <tr>\n      <th>390</th>\n      <td>2022</td>\n      <td>5549</td>\n      <td>1149</td>\n      <td>1033</td>\n      <td>834</td>\n      <td>netlist_create_from_ast.cpp</td>\n    </tr>\n  </tbody>\n</table>\n<p>391 rows × 6 columns</p>\n</div>"
     },
     "execution_count": 18,
     "metadata": {},
     "output_type": "execute_result"
    }
   ],
   "source": [
    "loc_file_tracking = {\"year\": [],\n",
    "                     \"loc_per_file\": [],\n",
    "                     \"complex_per_file\": [],\n",
    "                     \"comment_per_file\": [],\n",
    "                     \"blank_per_file\": [],\n",
    "                     \"filename\": []}\n",
    "for file in os.scandir(\"data/LOC_and_Complexity/byfile\"):\n",
    "    file_year = file.name[:4]\n",
    "    if file.is_file and file.name.endswith(\".json\"):\n",
    "        data_file = open(file)\n",
    "        data_file = json.load(data_file)\n",
    "        for odin_file in data_file:\n",
    "            if odin_file[\"Name\"] == \"C\" or odin_file[\"Name\"] == \"C++\":\n",
    "                for stats_file in odin_file[\"Files\"]:\n",
    "                    filename, filetype = stats_file[\"Filename\"].split(\".\")\n",
    "                    loc_file_tracking[\"year\"].append(file_year)\n",
    "                    loc_file_tracking[\"loc_per_file\"].append(stats_file[\"Lines\"])\n",
    "                    loc_file_tracking[\"complex_per_file\"].append(stats_file[\"Complexity\"])\n",
    "                    loc_file_tracking[\"filename\"].append(stats_file[\"Filename\"])\n",
    "                    loc_file_tracking[\"comment_per_file\"].append(stats_file[\"Comment\"])\n",
    "                    loc_file_tracking[\"blank_per_file\"].append(stats_file[\"Blank\"])\n",
    "loc_file_tracking = pd.DataFrame(loc_file_tracking)\n",
    "loc_file_tracking"
   ],
   "metadata": {
    "collapsed": false,
    "pycharm": {
     "name": "#%%\n"
    }
   }
  },
  {
   "cell_type": "code",
   "execution_count": 19,
   "outputs": [
    {
     "data": {
      "text/plain": "      loc_per_file  complex_per_file  comment_per_file  blank_per_file\nyear                                                                  \n2012    800.968750        127.468750        144.031250      101.375000\n2013    810.085714        133.342857        143.314286      100.342857\n2014    843.108108        146.540541        142.027027      103.972973\n2015    893.216216        158.891892        152.162162      110.432432\n2016    893.526316        158.000000        153.868421      112.236842\n2017    911.513514        159.567568        156.027027      114.621622\n2018   1087.206897        192.103448        184.137931      139.310345\n2019   1120.233333        197.033333        202.933333      148.766667\n2020   1008.000000        205.838710        205.322581      141.483871\n2021    970.212121        196.181818        198.575758      136.000000\n2022    843.730769        150.557692        217.096154      111.961538",
      "text/html": "<div>\n<style scoped>\n    .dataframe tbody tr th:only-of-type {\n        vertical-align: middle;\n    }\n\n    .dataframe tbody tr th {\n        vertical-align: top;\n    }\n\n    .dataframe thead th {\n        text-align: right;\n    }\n</style>\n<table border=\"1\" class=\"dataframe\">\n  <thead>\n    <tr style=\"text-align: right;\">\n      <th></th>\n      <th>loc_per_file</th>\n      <th>complex_per_file</th>\n      <th>comment_per_file</th>\n      <th>blank_per_file</th>\n    </tr>\n    <tr>\n      <th>year</th>\n      <th></th>\n      <th></th>\n      <th></th>\n      <th></th>\n    </tr>\n  </thead>\n  <tbody>\n    <tr>\n      <th>2012</th>\n      <td>800.968750</td>\n      <td>127.468750</td>\n      <td>144.031250</td>\n      <td>101.375000</td>\n    </tr>\n    <tr>\n      <th>2013</th>\n      <td>810.085714</td>\n      <td>133.342857</td>\n      <td>143.314286</td>\n      <td>100.342857</td>\n    </tr>\n    <tr>\n      <th>2014</th>\n      <td>843.108108</td>\n      <td>146.540541</td>\n      <td>142.027027</td>\n      <td>103.972973</td>\n    </tr>\n    <tr>\n      <th>2015</th>\n      <td>893.216216</td>\n      <td>158.891892</td>\n      <td>152.162162</td>\n      <td>110.432432</td>\n    </tr>\n    <tr>\n      <th>2016</th>\n      <td>893.526316</td>\n      <td>158.000000</td>\n      <td>153.868421</td>\n      <td>112.236842</td>\n    </tr>\n    <tr>\n      <th>2017</th>\n      <td>911.513514</td>\n      <td>159.567568</td>\n      <td>156.027027</td>\n      <td>114.621622</td>\n    </tr>\n    <tr>\n      <th>2018</th>\n      <td>1087.206897</td>\n      <td>192.103448</td>\n      <td>184.137931</td>\n      <td>139.310345</td>\n    </tr>\n    <tr>\n      <th>2019</th>\n      <td>1120.233333</td>\n      <td>197.033333</td>\n      <td>202.933333</td>\n      <td>148.766667</td>\n    </tr>\n    <tr>\n      <th>2020</th>\n      <td>1008.000000</td>\n      <td>205.838710</td>\n      <td>205.322581</td>\n      <td>141.483871</td>\n    </tr>\n    <tr>\n      <th>2021</th>\n      <td>970.212121</td>\n      <td>196.181818</td>\n      <td>198.575758</td>\n      <td>136.000000</td>\n    </tr>\n    <tr>\n      <th>2022</th>\n      <td>843.730769</td>\n      <td>150.557692</td>\n      <td>217.096154</td>\n      <td>111.961538</td>\n    </tr>\n  </tbody>\n</table>\n</div>"
     },
     "execution_count": 19,
     "metadata": {},
     "output_type": "execute_result"
    }
   ],
   "source": [
    "loc_file_tracking.groupby(\"year\").mean()"
   ],
   "metadata": {
    "collapsed": false,
    "pycharm": {
     "name": "#%%\n"
    }
   }
  },
  {
   "cell_type": "code",
   "execution_count": 21,
   "outputs": [],
   "source": [],
   "metadata": {
    "collapsed": false,
    "pycharm": {
     "name": "#%%\n"
    }
   }
  }
 ],
 "metadata": {
  "kernelspec": {
   "display_name": "Python 3",
   "language": "python",
   "name": "python3"
  },
  "language_info": {
   "codemirror_mode": {
    "name": "ipython",
    "version": 2
   },
   "file_extension": ".py",
   "mimetype": "text/x-python",
   "name": "python",
   "nbconvert_exporter": "python",
   "pygments_lexer": "ipython2",
   "version": "2.7.6"
  }
 },
 "nbformat": 4,
 "nbformat_minor": 0
}